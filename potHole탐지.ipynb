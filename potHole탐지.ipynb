{
  "cells": [
    {
      "cell_type": "markdown",
      "metadata": {
        "id": "view-in-github",
        "colab_type": "text"
      },
      "source": [
        "<a href=\"https://colab.research.google.com/github/Songseunggeon/AiModels/blob/main/potHole%ED%83%90%EC%A7%80.ipynb\" target=\"_parent\"><img src=\"https://colab.research.google.com/assets/colab-badge.svg\" alt=\"Open In Colab\"/></a>"
      ]
    },
    {
      "cell_type": "markdown",
      "metadata": {
        "id": "X8hTHGAoci-U"
      },
      "source": [
        "# 포트홀 탐지 모델 만들기\n",
        "# 포트홀이란\n",
        "  1. 포트홀은 도로에 만들어진 크랙의 종류로 깊게 패인 웅덩이를 말한다.\n",
        "  2. 포트홀을 탐지하는 목적은\n",
        "    - 자율 주행 자동차의 안전을 위한 회피 운행\n",
        "    - 도로 보수를 위한 위치 탐색"
      ]
    },
    {
      "cell_type": "markdown",
      "metadata": {
        "id": "NcHwiFOTc739"
      },
      "source": [
        "## 응용 SW를 개발하는 방법\n",
        "  1. What ? : 위의 정의와 같이 무엇을 할 것인지를 정한다.\n",
        "  2. Dataset을 준비한다. : 학습을 위한 annotation된 dataSet을 준비한다.\n",
        "  3. 적합한 Pre-Trained 된 모델을 구한다. : 이미지 관련서는 우리는 YOLO에 집중한다.\n",
        "  4. Fine-Tuning : 2에서 준비한 dataSet을 이용하여 custom Model을 만든다.\n",
        "  5. 응용 SW를 시작한다.\n",
        "  - webAPP : 실습한 TM을 이용한 JS를 기억한다.\n",
        "  - nativeAPP : Python과 PyQt5 를 이용한 배포가능한 setup.exe 까지 완성한 것을 기억한다."
      ]
    },
    {
      "cell_type": "markdown",
      "metadata": {
        "id": "tmUxloAldytX"
      },
      "source": [
        "# YOLO 클로닝"
      ]
    },
    {
      "cell_type": "code",
      "execution_count": null,
      "metadata": {
        "colab": {
          "base_uri": "https://localhost:8080/",
          "height": 54
        },
        "id": "vR1UjaSqcTQj",
        "outputId": "c0add111-9cbc-472e-aa52-cf578128ddea"
      },
      "outputs": [
        {
          "output_type": "stream",
          "name": "stdout",
          "text": [
            "/content\n"
          ]
        },
        {
          "output_type": "execute_result",
          "data": {
            "text/plain": [
              "'/content'"
            ],
            "application/vnd.google.colaboratory.intrinsic+json": {
              "type": "string"
            }
          },
          "metadata": {},
          "execution_count": 1
        }
      ],
      "source": [
        "# 현재 폴더\n",
        "%pwd\n",
        "# 위치 이동을 강제로 해야한다면\n",
        "%cd /content/\n",
        "%pwd"
      ]
    },
    {
      "cell_type": "code",
      "execution_count": null,
      "metadata": {
        "colab": {
          "base_uri": "https://localhost:8080/"
        },
        "id": "Wn7Eyz7EeKxo",
        "outputId": "ade37007-527b-418d-93e5-94931c2da3fc"
      },
      "outputs": [
        {
          "output_type": "stream",
          "name": "stdout",
          "text": [
            "Cloning into 'yolov5'...\n",
            "remote: Enumerating objects: 16575, done.\u001b[K\n",
            "remote: Counting objects: 100% (53/53), done.\u001b[K\n",
            "remote: Compressing objects: 100% (35/35), done.\u001b[K\n",
            "remote: Total 16575 (delta 28), reused 37 (delta 18), pack-reused 16522\u001b[K\n",
            "Receiving objects: 100% (16575/16575), 15.03 MiB | 16.88 MiB/s, done.\n",
            "Resolving deltas: 100% (11387/11387), done.\n"
          ]
        }
      ],
      "source": [
        "# gitHub에서 YOLO 가져오기 https://github.com/ultralytics/yolov5\n",
        "!git clone https://github.com/ultralytics/yolov5"
      ]
    },
    {
      "cell_type": "markdown",
      "metadata": {
        "id": "cNFRoShNe8f1"
      },
      "source": [
        "# 작업폴더로 이동"
      ]
    },
    {
      "cell_type": "code",
      "execution_count": null,
      "metadata": {
        "colab": {
          "base_uri": "https://localhost:8080/"
        },
        "id": "-6Fj--Yde4-T",
        "outputId": "99859367-096b-45ff-f925-4073afa4ff7d"
      },
      "outputs": [
        {
          "name": "stdout",
          "output_type": "stream",
          "text": [
            "/content/yolov5\n"
          ]
        }
      ],
      "source": [
        "%cd yolov5"
      ]
    },
    {
      "cell_type": "code",
      "execution_count": null,
      "metadata": {
        "colab": {
          "base_uri": "https://localhost:8080/"
        },
        "id": "8xSV3KWJfWUN",
        "outputId": "6d74d901-2afa-4b4e-f664-1426468ccb3a"
      },
      "outputs": [
        {
          "name": "stdout",
          "output_type": "stream",
          "text": [
            "/content/yolov5/pothole\n"
          ]
        }
      ],
      "source": [
        "# dataSet을 가져올 폴더를 만듬\n",
        "%mkdir /content/yolov5/pothole\n",
        "%cd /content/yolov5/pothole"
      ]
    },
    {
      "cell_type": "markdown",
      "metadata": {
        "id": "S_gBKWjAfbkU"
      },
      "source": [
        "## dataSet을 가져오기"
      ]
    },
    {
      "cell_type": "code",
      "execution_count": null,
      "metadata": {
        "id": "2i32znB5rjP6"
      },
      "outputs": [],
      "source": [
        "!curl -L \"https://public.roboflow.com/ds/AZZeoZCGOT?key=XFPYdCUU9Z\" > roboflow.zip; unzip roboflow.zip; rm roboflow.zip"
      ]
    },
    {
      "cell_type": "code",
      "execution_count": null,
      "metadata": {
        "colab": {
          "base_uri": "https://localhost:8080/",
          "height": 35
        },
        "id": "h5JrhGPoiWHs",
        "outputId": "ce307bbc-a04a-4467-967a-073104cbae8b"
      },
      "outputs": [
        {
          "data": {
            "application/vnd.google.colaboratory.intrinsic+json": {
              "type": "string"
            },
            "text/plain": [
              "'/content/yolov5/pothole'"
            ]
          },
          "execution_count": 6,
          "metadata": {},
          "output_type": "execute_result"
        }
      ],
      "source": [
        "%pwd"
      ]
    },
    {
      "cell_type": "markdown",
      "metadata": {
        "id": "-dV_6ZSzigPd"
      },
      "source": [
        "## DataSet의 구성 내용을 확인"
      ]
    },
    {
      "cell_type": "code",
      "execution_count": null,
      "metadata": {
        "colab": {
          "base_uri": "https://localhost:8080/"
        },
        "id": "KHDFp6Dximr6",
        "outputId": "a9ba1684-3cee-4bb8-caf7-2e79fcc2df21"
      },
      "outputs": [
        {
          "name": "stdout",
          "output_type": "stream",
          "text": [
            "465 67 133\n"
          ]
        }
      ],
      "source": [
        "from glob import glob\n",
        "train_img_list = glob('/content/yolov5/pothole/train/images/*.jpg')\n",
        "test_img_list = glob('/content/yolov5/pothole/test/images/*.jpg')\n",
        "valid_img_list = glob('/content/yolov5/pothole/valid/images/*.jpg')\n",
        "print(len(train_img_list), len(test_img_list), len(valid_img_list))"
      ]
    },
    {
      "cell_type": "markdown",
      "metadata": {
        "id": "BeTql19sjY7I"
      },
      "source": [
        "## 모델 FineTunning 을 시작"
      ]
    },
    {
      "cell_type": "markdown",
      "metadata": {
        "id": "7QmgtSOHtelk"
      },
      "source": [
        "## 1. 데이터셋의 위치등을 알려주기 위한 yaml 파일 준비"
      ]
    },
    {
      "cell_type": "markdown",
      "metadata": {
        "id": "F5BCnAJio_09"
      },
      "source": [
        "## 윗줄에서 만든 파이썬"
      ]
    },
    {
      "cell_type": "code",
      "execution_count": null,
      "metadata": {
        "id": "polRVdi_je0t"
      },
      "outputs": [],
      "source": [
        "import yaml\n",
        "with open('/content/yolov5/pothole/train.txt','w') as f:\n",
        "    f.write('\\n'.join(train_img_list) + '\\n')\n",
        "with open('/content/yolov5/pothole/test.txt','w') as f:\n",
        "    f.write('\\n'.join(test_img_list) + '\\n')\n",
        "with open('/content/yolov5/pothole/val.txt','w') as f:\n",
        "    f.write('\\n'.join(valid_img_list) + '\\n')"
      ]
    },
    {
      "cell_type": "markdown",
      "metadata": {
        "id": "HS61CV2VpaKb"
      },
      "source": []
    },
    {
      "cell_type": "code",
      "execution_count": null,
      "metadata": {
        "id": "A2XOkWc1pahD"
      },
      "outputs": [],
      "source": [
        "from IPython.core.magic import register_line_cell_magic\n",
        "\n",
        "@register_line_cell_magic\n",
        "def writetemplate(line,cell):\n",
        "    with open(line, 'w') as f:\n",
        "        f.write(cell.format(**globals()))"
      ]
    },
    {
      "cell_type": "markdown",
      "metadata": {
        "id": "1IKEk2nJplnu"
      },
      "source": []
    },
    {
      "cell_type": "markdown",
      "metadata": {
        "id": "2rbs71Cpp0YL"
      },
      "source": []
    },
    {
      "cell_type": "markdown",
      "metadata": {
        "id": "-1QFoJ3EpqkJ"
      },
      "source": [
        "### FineTunning중에 모델에게 dataSet의 위치를 알려주기 위한 data.yaml을 만든다."
      ]
    },
    {
      "cell_type": "code",
      "execution_count": null,
      "metadata": {
        "id": "3G_TcdIvpl8G"
      },
      "outputs": [],
      "source": [
        "%%writetemplate /content/yolov5/pothole/data.yaml\n",
        "\n",
        "train: pothole/train/images\n",
        "test: pothole/test/images\n",
        "val: pothole/valid/images\n",
        "\n",
        "nc: 1\n",
        "names: ['pothole']"
      ]
    },
    {
      "cell_type": "code",
      "execution_count": null,
      "metadata": {
        "colab": {
          "base_uri": "https://localhost:8080/"
        },
        "id": "csmxr97eqIyj",
        "outputId": "f3416adf-5ed0-4a36-c7a8-8e00bae8f79e"
      },
      "outputs": [
        {
          "name": "stdout",
          "output_type": "stream",
          "text": [
            "\n",
            "train: pothole/train/images\n",
            "test: pothole/test/images\n",
            "val: pothole/valid/images\n",
            "\n",
            "nc: 1\n",
            "names: ['pothole']\n"
          ]
        }
      ],
      "source": [
        "%cat /content/yolov5/pothole/data.yaml"
      ]
    },
    {
      "cell_type": "markdown",
      "metadata": {
        "id": "Xh4s6TWjqSyr"
      },
      "source": [
        "### 만들어진 data.yaml에서 필요한 변수 (nc) 를 가져오기"
      ]
    },
    {
      "cell_type": "code",
      "execution_count": null,
      "metadata": {
        "colab": {
          "base_uri": "https://localhost:8080/"
        },
        "id": "849FJUp-qZnu",
        "outputId": "3eac3f9e-a1b0-441a-b939-eefca7a2bb11"
      },
      "outputs": [
        {
          "name": "stdout",
          "output_type": "stream",
          "text": [
            "1\n"
          ]
        }
      ],
      "source": [
        "with open('/content/yolov5/pothole/data.yaml','r') as stream:\n",
        "  num_classes = str(yaml.safe_load(stream)['nc'])\n",
        "  print (num_classes)"
      ]
    },
    {
      "cell_type": "markdown",
      "metadata": {
        "id": "ymtPpHlwrJDQ"
      },
      "source": [
        "### custom_yolov5.yaml을 만들기\n",
        "**굵은 텍스트**\n",
        "1. 원래 pre-trained 된 yolov5s.yaml이 갖고 있는 내용을 수정해서 만들어야함.\n",
        "  - 원본 yolov5s.yaml을 cat으로 프린트해서 복사하여 사용한다.\n",
        "2. 원래 있던 yaml 내용중 ,nc 부분만 수정해준다."
      ]
    },
    {
      "cell_type": "code",
      "execution_count": null,
      "metadata": {
        "colab": {
          "base_uri": "https://localhost:8080/"
        },
        "id": "2ayfx-EhrnwS",
        "outputId": "b0efab03-ac62-4b0b-a00c-84b1d849e4e8"
      },
      "outputs": [
        {
          "name": "stdout",
          "output_type": "stream",
          "text": [
            "# YOLOv5 🚀 by Ultralytics, AGPL-3.0 license\n",
            "\n",
            "# Parameters\n",
            "nc: 80 # number of classes\n",
            "depth_multiple: 0.33 # model depth multiple\n",
            "width_multiple: 0.50 # layer channel multiple\n",
            "anchors:\n",
            "  - [10, 13, 16, 30, 33, 23] # P3/8\n",
            "  - [30, 61, 62, 45, 59, 119] # P4/16\n",
            "  - [116, 90, 156, 198, 373, 326] # P5/32\n",
            "\n",
            "# YOLOv5 v6.0 backbone\n",
            "backbone:\n",
            "  # [from, number, module, args]\n",
            "  [\n",
            "    [-1, 1, Conv, [64, 6, 2, 2]], # 0-P1/2\n",
            "    [-1, 1, Conv, [128, 3, 2]], # 1-P2/4\n",
            "    [-1, 3, C3, [128]],\n",
            "    [-1, 1, Conv, [256, 3, 2]], # 3-P3/8\n",
            "    [-1, 6, C3, [256]],\n",
            "    [-1, 1, Conv, [512, 3, 2]], # 5-P4/16\n",
            "    [-1, 9, C3, [512]],\n",
            "    [-1, 1, Conv, [1024, 3, 2]], # 7-P5/32\n",
            "    [-1, 3, C3, [1024]],\n",
            "    [-1, 1, SPPF, [1024, 5]], # 9\n",
            "  ]\n",
            "\n",
            "# YOLOv5 v6.0 head\n",
            "head: [\n",
            "    [-1, 1, Conv, [512, 1, 1]],\n",
            "    [-1, 1, nn.Upsample, [None, 2, \"nearest\"]],\n",
            "    [[-1, 6], 1, Concat, [1]], # cat backbone P4\n",
            "    [-1, 3, C3, [512, False]], # 13\n",
            "\n",
            "    [-1, 1, Conv, [256, 1, 1]],\n",
            "    [-1, 1, nn.Upsample, [None, 2, \"nearest\"]],\n",
            "    [[-1, 4], 1, Concat, [1]], # cat backbone P3\n",
            "    [-1, 3, C3, [256, False]], # 17 (P3/8-small)\n",
            "\n",
            "    [-1, 1, Conv, [256, 3, 2]],\n",
            "    [[-1, 14], 1, Concat, [1]], # cat head P4\n",
            "    [-1, 3, C3, [512, False]], # 20 (P4/16-medium)\n",
            "\n",
            "    [-1, 1, Conv, [512, 3, 2]],\n",
            "    [[-1, 10], 1, Concat, [1]], # cat head P5\n",
            "    [-1, 3, C3, [1024, False]], # 23 (P5/32-large)\n",
            "\n",
            "    [[17, 20, 23], 1, Detect, [nc, anchors]], # Detect(P3, P4, P5)\n",
            "  ]\n"
          ]
        }
      ],
      "source": [
        "%cat /content/yolov5/models/yolov5s.yaml"
      ]
    },
    {
      "cell_type": "markdown",
      "metadata": {
        "id": "caQnVRg5sE3l"
      },
      "source": [
        "## custom_yolov5s.yaml 파일을 만든다."
      ]
    },
    {
      "cell_type": "markdown",
      "metadata": {
        "id": "ZdMnlUjmsLIJ"
      },
      "source": [
        "+ nc : 80 또는 nc : 다른숫자\n",
        "부분을 앞서 가져온 변수 num_classes로 바꾸어 준다. {num_classes}"
      ]
    },
    {
      "cell_type": "code",
      "execution_count": null,
      "metadata": {
        "id": "IeEGwezIr12i"
      },
      "outputs": [],
      "source": [
        "%%writetemplate /content/yolov5/models/custom_yolov5s.yaml\n",
        "\n",
        "# Parameters\n",
        "nc: {num_classes} # number of classes\n",
        "depth_multiple: 0.33 # model depth multiple\n",
        "width_multiple: 0.50 # layer channel multiple\n",
        "anchors:\n",
        "  - [10, 13, 16, 30, 33, 23] # P3/8\n",
        "  - [30, 61, 62, 45, 59, 119] # P4/16\n",
        "  - [116, 90, 156, 198, 373, 326] # P5/32\n",
        "\n",
        "# YOLOv5 v6.0 backbone\n",
        "backbone:\n",
        "  # [from, number, module, args]\n",
        "  [\n",
        "    [-1, 1, Conv, [64, 6, 2, 2]], # 0-P1/2\n",
        "    [-1, 1, Conv, [128, 3, 2]], # 1-P2/4\n",
        "    [-1, 3, C3, [128]],\n",
        "    [-1, 1, Conv, [256, 3, 2]], # 3-P3/8\n",
        "    [-1, 6, C3, [256]],\n",
        "    [-1, 1, Conv, [512, 3, 2]], # 5-P4/16\n",
        "    [-1, 9, C3, [512]],\n",
        "    [-1, 1, Conv, [1024, 3, 2]], # 7-P5/32\n",
        "    [-1, 3, C3, [1024]],\n",
        "    [-1, 1, SPPF, [1024, 5]], # 9\n",
        "  ]\n",
        "\n",
        "# YOLOv5 v6.0 head\n",
        "head: [\n",
        "    [-1, 1, Conv, [512, 1, 1]],\n",
        "    [-1, 1, nn.Upsample, [None, 2, \"nearest\"]],\n",
        "    [[-1, 6], 1, Concat, [1]], # cat backbone P4\n",
        "    [-1, 3, C3, [512, False]], # 13\n",
        "\n",
        "    [-1, 1, Conv, [256, 1, 1]],\n",
        "    [-1, 1, nn.Upsample, [None, 2, \"nearest\"]],\n",
        "    [[-1, 4], 1, Concat, [1]], # cat backbone P3\n",
        "    [-1, 3, C3, [256, False]], # 17 (P3/8-small)\n",
        "\n",
        "    [-1, 1, Conv, [256, 3, 2]],\n",
        "    [[-1, 14], 1, Concat, [1]], # cat head P4\n",
        "    [-1, 3, C3, [512, False]], # 20 (P4/16-medium)\n",
        "\n",
        "    [-1, 1, Conv, [512, 3, 2]],\n",
        "    [[-1, 10], 1, Concat, [1]], # cat head P5\n",
        "    [-1, 3, C3, [1024, False]], # 23 (P5/32-large)\n",
        "\n",
        "    [[17, 20, 23], 1, Detect, [nc, anchors]], # Detect(P3, P4, P5)\n",
        "  ]"
      ]
    },
    {
      "cell_type": "markdown",
      "metadata": {
        "id": "tTD5Tq25s-bF"
      },
      "source": [
        "### 최종 만들어진 custom_yolov5s.yaml의 내용중 nc가 수정되었는지 확인\n",
        "nc = num_classes = 1"
      ]
    },
    {
      "cell_type": "code",
      "execution_count": null,
      "metadata": {
        "colab": {
          "base_uri": "https://localhost:8080/"
        },
        "id": "1nZR_7XvtPvD",
        "outputId": "536f5820-01c8-4979-ceb3-8af05ee9ac27"
      },
      "outputs": [
        {
          "name": "stdout",
          "output_type": "stream",
          "text": [
            "\n",
            "# Parameters\n",
            "nc: 1 # number of classes\n",
            "depth_multiple: 0.33 # model depth multiple\n",
            "width_multiple: 0.50 # layer channel multiple\n",
            "anchors:\n",
            "  - [10, 13, 16, 30, 33, 23] # P3/8\n",
            "  - [30, 61, 62, 45, 59, 119] # P4/16\n",
            "  - [116, 90, 156, 198, 373, 326] # P5/32\n",
            "\n",
            "# YOLOv5 v6.0 backbone\n",
            "backbone:\n",
            "  # [from, number, module, args]\n",
            "  [\n",
            "    [-1, 1, Conv, [64, 6, 2, 2]], # 0-P1/2\n",
            "    [-1, 1, Conv, [128, 3, 2]], # 1-P2/4\n",
            "    [-1, 3, C3, [128]],\n",
            "    [-1, 1, Conv, [256, 3, 2]], # 3-P3/8\n",
            "    [-1, 6, C3, [256]],\n",
            "    [-1, 1, Conv, [512, 3, 2]], # 5-P4/16\n",
            "    [-1, 9, C3, [512]],\n",
            "    [-1, 1, Conv, [1024, 3, 2]], # 7-P5/32\n",
            "    [-1, 3, C3, [1024]],\n",
            "    [-1, 1, SPPF, [1024, 5]], # 9\n",
            "  ]\n",
            "\n",
            "# YOLOv5 v6.0 head\n",
            "head: [\n",
            "    [-1, 1, Conv, [512, 1, 1]],\n",
            "    [-1, 1, nn.Upsample, [None, 2, \"nearest\"]],\n",
            "    [[-1, 6], 1, Concat, [1]], # cat backbone P4\n",
            "    [-1, 3, C3, [512, False]], # 13\n",
            "\n",
            "    [-1, 1, Conv, [256, 1, 1]],\n",
            "    [-1, 1, nn.Upsample, [None, 2, \"nearest\"]],\n",
            "    [[-1, 4], 1, Concat, [1]], # cat backbone P3\n",
            "    [-1, 3, C3, [256, False]], # 17 (P3/8-small)\n",
            "\n",
            "    [-1, 1, Conv, [256, 3, 2]],\n",
            "    [[-1, 14], 1, Concat, [1]], # cat head P4\n",
            "    [-1, 3, C3, [512, False]], # 20 (P4/16-medium)\n",
            "\n",
            "    [-1, 1, Conv, [512, 3, 2]],\n",
            "    [[-1, 10], 1, Concat, [1]], # cat head P5\n",
            "    [-1, 3, C3, [1024, False]], # 23 (P5/32-large)\n",
            "\n",
            "    [[17, 20, 23], 1, Detect, [nc, anchors]], # Detect(P3, P4, P5)\n",
            "  ]\n"
          ]
        }
      ],
      "source": [
        "%cat /content/yolov5/models/custom_yolov5s.yaml"
      ]
    },
    {
      "cell_type": "markdown",
      "metadata": {
        "id": "FCNMYy7OtsnW"
      },
      "source": [
        "## 2. 학습 시작"
      ]
    },
    {
      "cell_type": "markdown",
      "metadata": {
        "id": "SXD6F2SptyI9"
      },
      "source": [
        "### 학습에 필요한 parameter 지정하기\n",
        "- 우리가 사용하는 train.py 는 yoloV5 모델을 발표한 사람이 직접 작성한 코드이다.\n",
        "- 우리는 1줄의 수정없이 코드를 그대로 사용하여 Fine Tunning을 진행한다.\n",
        "- 다만 parameter를 이용해서 작업 방법을 알려준다."
      ]
    },
    {
      "cell_type": "markdown",
      "metadata": {
        "id": "hVv7RMkJuhRQ"
      },
      "source": [
        "### 학습(Training) 에 필요한 Parameter 지정하기\n",
        "\n",
        "* `img`: 입력 이미지 크기 정의\n",
        "* `batch`: 배치 크기 결정\n",
        "* `epochs`: 학습 기간 개수 정의\n",
        "* `data`: yaml 파일 경로\n",
        "* `cfg`: 모델 구성 지정\n",
        "* `weights`: 가중치에 대한 경로 지정\n",
        "* `name`: 결과 이름\n",
        "* `nosave`: 최종 체크포인트만 저장\n",
        "* `cache`: 빠른 학습을 위한 이미지 캐시"
      ]
    },
    {
      "cell_type": "markdown",
      "metadata": {
        "id": "htWUVVtku6vj"
      },
      "source": [
        "### 학습을 위해서 폴더 이동하고 시간 기록하기"
      ]
    },
    {
      "cell_type": "code",
      "execution_count": null,
      "metadata": {
        "colab": {
          "base_uri": "https://localhost:8080/"
        },
        "id": "0SawXbElvL7W",
        "outputId": "03f5a912-7209-46ea-e290-ac1b4bbb2aab"
      },
      "outputs": [
        {
          "name": "stdout",
          "output_type": "stream",
          "text": [
            "/content/yolov5\n",
            "CPU times: user 4 µs, sys: 0 ns, total: 4 µs\n",
            "Wall time: 7.87 µs\n"
          ]
        }
      ],
      "source": [
        "import time\n",
        "%cd /content/yolov5/\n",
        "%time"
      ]
    },
    {
      "cell_type": "markdown",
      "metadata": {
        "id": "ZDWl45mtvlnZ"
      },
      "source": [
        "### train.py에 파라메타 전달하고 실행하기"
      ]
    },
    {
      "cell_type": "code",
      "execution_count": null,
      "metadata": {
        "colab": {
          "background_save": true,
          "base_uri": "https://localhost:8080/"
        },
        "id": "wnLq_jNOvsIU",
        "outputId": "fa769dcf-b207-4f11-a560-0cab975957db"
      },
      "outputs": [
        {
          "name": "stdout",
          "output_type": "stream",
          "text": [
            "/content/yolov5\n",
            "2024-04-29 16:36:55.018193: E external/local_xla/xla/stream_executor/cuda/cuda_dnn.cc:9261] Unable to register cuDNN factory: Attempting to register factory for plugin cuDNN when one has already been registered\n",
            "2024-04-29 16:36:55.018277: E external/local_xla/xla/stream_executor/cuda/cuda_fft.cc:607] Unable to register cuFFT factory: Attempting to register factory for plugin cuFFT when one has already been registered\n",
            "2024-04-29 16:36:55.020046: E external/local_xla/xla/stream_executor/cuda/cuda_blas.cc:1515] Unable to register cuBLAS factory: Attempting to register factory for plugin cuBLAS when one has already been registered\n",
            "\u001b[34m\u001b[1mtrain: \u001b[0mweights=, cfg=./models/custom_yolov5s.yaml, data=./pothole/data.yaml, hyp=data/hyps/hyp.scratch-low.yaml, epochs=50, batch_size=16, imgsz=640, rect=False, resume=False, nosave=False, noval=False, noautoanchor=False, noplots=False, evolve=None, evolve_population=data/hyps, resume_evolve=None, bucket=, cache=ram, image_weights=False, device=, multi_scale=False, single_cls=False, optimizer=SGD, sync_bn=False, workers=8, project=runs/train, name=pothole_result, exist_ok=False, quad=False, cos_lr=False, label_smoothing=0.0, patience=100, freeze=[0], save_period=-1, seed=0, local_rank=-1, entity=None, upload_dataset=False, bbox_interval=-1, artifact_alias=latest, ndjson_console=False, ndjson_file=False\n",
            "\u001b[34m\u001b[1mgithub: \u001b[0mup to date with https://github.com/ultralytics/yolov5 ✅\n",
            "YOLOv5 🚀 v7.0-306-gb599ae42 Python-3.10.12 torch-2.2.1+cu121 CPU\n",
            "\n",
            "\u001b[34m\u001b[1mhyperparameters: \u001b[0mlr0=0.01, lrf=0.01, momentum=0.937, weight_decay=0.0005, warmup_epochs=3.0, warmup_momentum=0.8, warmup_bias_lr=0.1, box=0.05, cls=0.5, cls_pw=1.0, obj=1.0, obj_pw=1.0, iou_t=0.2, anchor_t=4.0, fl_gamma=0.0, hsv_h=0.015, hsv_s=0.7, hsv_v=0.4, degrees=0.0, translate=0.1, scale=0.5, shear=0.0, perspective=0.0, flipud=0.0, fliplr=0.5, mosaic=1.0, mixup=0.0, copy_paste=0.0\n",
            "\u001b[34m\u001b[1mComet: \u001b[0mrun 'pip install comet_ml' to automatically track and visualize YOLOv5 🚀 runs in Comet\n",
            "\u001b[34m\u001b[1mTensorBoard: \u001b[0mStart with 'tensorboard --logdir runs/train', view at http://localhost:6006/\n",
            "\n",
            "                 from  n    params  module                                  arguments                     \n",
            "  0                -1  1      3520  models.common.Conv                      [3, 32, 6, 2, 2]              \n",
            "  1                -1  1     18560  models.common.Conv                      [32, 64, 3, 2]                \n",
            "  2                -1  1     18816  models.common.C3                        [64, 64, 1]                   \n",
            "  3                -1  1     73984  models.common.Conv                      [64, 128, 3, 2]               \n",
            "  4                -1  2    115712  models.common.C3                        [128, 128, 2]                 \n",
            "  5                -1  1    295424  models.common.Conv                      [128, 256, 3, 2]              \n",
            "  6                -1  3    625152  models.common.C3                        [256, 256, 3]                 \n",
            "  7                -1  1   1180672  models.common.Conv                      [256, 512, 3, 2]              \n",
            "  8                -1  1   1182720  models.common.C3                        [512, 512, 1]                 \n",
            "  9                -1  1    656896  models.common.SPPF                      [512, 512, 5]                 \n",
            " 10                -1  1    131584  models.common.Conv                      [512, 256, 1, 1]              \n",
            " 11                -1  1         0  torch.nn.modules.upsampling.Upsample    [None, 2, 'nearest']          \n",
            " 12           [-1, 6]  1         0  models.common.Concat                    [1]                           \n",
            " 13                -1  1    361984  models.common.C3                        [512, 256, 1, False]          \n",
            " 14                -1  1     33024  models.common.Conv                      [256, 128, 1, 1]              \n",
            " 15                -1  1         0  torch.nn.modules.upsampling.Upsample    [None, 2, 'nearest']          \n",
            " 16           [-1, 4]  1         0  models.common.Concat                    [1]                           \n",
            " 17                -1  1     90880  models.common.C3                        [256, 128, 1, False]          \n",
            " 18                -1  1    147712  models.common.Conv                      [128, 128, 3, 2]              \n",
            " 19          [-1, 14]  1         0  models.common.Concat                    [1]                           \n",
            " 20                -1  1    296448  models.common.C3                        [256, 256, 1, False]          \n",
            " 21                -1  1    590336  models.common.Conv                      [256, 256, 3, 2]              \n",
            " 22          [-1, 10]  1         0  models.common.Concat                    [1]                           \n",
            " 23                -1  1   1182720  models.common.C3                        [512, 512, 1, False]          \n",
            " 24      [17, 20, 23]  1     16182  models.yolo.Detect                      [1, [[10, 13, 16, 30, 33, 23], [30, 61, 62, 45, 59, 119], [116, 90, 156, 198, 373, 326]], [128, 256, 512]]\n",
            "custom_YOLOv5s summary: 214 layers, 7022326 parameters, 7022326 gradients, 15.9 GFLOPs\n",
            "\n",
            "\u001b[34m\u001b[1moptimizer:\u001b[0m SGD(lr=0.01) with parameter groups 57 weight(decay=0.0), 60 weight(decay=0.0005), 60 bias\n",
            "\u001b[34m\u001b[1malbumentations: \u001b[0mBlur(p=0.01, blur_limit=(3, 7)), MedianBlur(p=0.01, blur_limit=(3, 7)), ToGray(p=0.01), CLAHE(p=0.01, clip_limit=(1, 4.0), tile_grid_size=(8, 8))\n",
            "/usr/lib/python3.10/multiprocessing/popen_fork.py:66: RuntimeWarning: os.fork() was called. os.fork() is incompatible with multithreaded code, and JAX is multithreaded, so this will likely lead to a deadlock.\n",
            "  self.pid = os.fork()\n",
            "\u001b[34m\u001b[1mtrain: \u001b[0mScanning /content/yolov5/pothole/train/labels... 465 images, 0 backgrounds, 0 corrupt: 100% 465/465 [00:01<00:00, 287.26it/s]\n",
            "\u001b[34m\u001b[1mtrain: \u001b[0mNew cache created: /content/yolov5/pothole/train/labels.cache\n",
            "\u001b[34m\u001b[1mtrain: \u001b[0mCaching images (0.4GB ram): 100% 465/465 [00:05<00:00, 89.33it/s] \n",
            "\u001b[34m\u001b[1mval: \u001b[0mScanning /content/yolov5/pothole/valid/labels... 133 images, 0 backgrounds, 0 corrupt: 100% 133/133 [00:00<00:00, 327.18it/s]\n",
            "\u001b[34m\u001b[1mval: \u001b[0mNew cache created: /content/yolov5/pothole/valid/labels.cache\n",
            "\u001b[34m\u001b[1mval: \u001b[0mCaching images (0.1GB ram): 100% 133/133 [00:01<00:00, 74.78it/s]\n",
            "\n",
            "\u001b[34m\u001b[1mAutoAnchor: \u001b[0m4.30 anchors/target, 0.999 Best Possible Recall (BPR). Current anchors are a good fit to dataset ✅\n",
            "Plotting labels to runs/train/pothole_result2/labels.jpg... \n",
            "Image sizes 640 train, 640 val\n",
            "Using 2 dataloader workers\n",
            "Logging results to \u001b[1mruns/train/pothole_result2\u001b[0m\n",
            "Starting training for 50 epochs...\n",
            "\n",
            "      Epoch    GPU_mem   box_loss   obj_loss   cls_loss  Instances       Size\n",
            "       0/49         0G     0.1068    0.04053          0          4        640: 100% 30/30 [12:01<00:00, 24.05s/it]\n",
            "                 Class     Images  Instances          P          R      mAP50   mAP50-95:   0% 0/5 [00:00<?, ?it/s]WARNING ⚠️ NMS time limit 2.100s exceeded\n",
            "                 Class     Images  Instances          P          R      mAP50   mAP50-95:  20% 1/5 [00:12<00:49, 12.26s/it]WARNING ⚠️ NMS time limit 2.100s exceeded\n",
            "                 Class     Images  Instances          P          R      mAP50   mAP50-95:  40% 2/5 [00:26<00:39, 13.20s/it]WARNING ⚠️ NMS time limit 2.100s exceeded\n",
            "                 Class     Images  Instances          P          R      mAP50   mAP50-95:  60% 3/5 [00:44<00:30, 15.46s/it]WARNING ⚠️ NMS time limit 2.100s exceeded\n",
            "                 Class     Images  Instances          P          R      mAP50   mAP50-95:  80% 4/5 [01:03<00:16, 16.81s/it]WARNING ⚠️ NMS time limit 0.750s exceeded\n",
            "                 Class     Images  Instances          P          R      mAP50   mAP50-95: 100% 5/5 [01:06<00:00, 13.22s/it]\n",
            "                   all        133        330   0.000714    0.00909   0.000362   0.000108\n",
            "\n",
            "      Epoch    GPU_mem   box_loss   obj_loss   cls_loss  Instances       Size\n",
            "       1/49         0G    0.09887    0.04067          0          3        640: 100% 30/30 [11:57<00:00, 23.93s/it]\n",
            "                 Class     Images  Instances          P          R      mAP50   mAP50-95:   0% 0/5 [00:00<?, ?it/s]WARNING ⚠️ NMS time limit 2.100s exceeded\n",
            "                 Class     Images  Instances          P          R      mAP50   mAP50-95:  20% 1/5 [00:12<00:48, 12.20s/it]WARNING ⚠️ NMS time limit 2.100s exceeded\n",
            "                 Class     Images  Instances          P          R      mAP50   mAP50-95:  40% 2/5 [00:25<00:39, 13.00s/it]WARNING ⚠️ NMS time limit 2.100s exceeded\n",
            "                 Class     Images  Instances          P          R      mAP50   mAP50-95:  60% 3/5 [00:44<00:30, 15.44s/it]WARNING ⚠️ NMS time limit 2.100s exceeded\n",
            "                 Class     Images  Instances          P          R      mAP50   mAP50-95:  80% 4/5 [01:01<00:16, 16.27s/it]WARNING ⚠️ NMS time limit 0.750s exceeded\n",
            "                 Class     Images  Instances          P          R      mAP50   mAP50-95: 100% 5/5 [01:04<00:00, 12.87s/it]\n",
            "                   all        133        330    0.00259      0.148    0.00153   0.000418\n",
            "\n",
            "      Epoch    GPU_mem   box_loss   obj_loss   cls_loss  Instances       Size\n",
            "       2/49         0G    0.09365    0.04468          0          2        640: 100% 30/30 [11:51<00:00, 23.70s/it]\n",
            "                 Class     Images  Instances          P          R      mAP50   mAP50-95: 100% 5/5 [01:03<00:00, 12.75s/it]\n",
            "                   all        133        330    0.00223       0.27    0.00165   0.000417\n",
            "\n",
            "      Epoch    GPU_mem   box_loss   obj_loss   cls_loss  Instances       Size\n",
            "       3/49         0G    0.09142    0.04297          0          1        640: 100% 30/30 [11:29<00:00, 22.98s/it]\n",
            "                 Class     Images  Instances          P          R      mAP50   mAP50-95: 100% 5/5 [00:58<00:00, 11.62s/it]\n",
            "                   all        133        330    0.00193      0.233    0.00174   0.000444\n",
            "\n",
            "      Epoch    GPU_mem   box_loss   obj_loss   cls_loss  Instances       Size\n",
            "       4/49         0G    0.09249     0.0435          0         59        640:  67% 20/30 [07:58<03:56, 23.69s/it]"
          ]
        }
      ],
      "source": [
        "%%time\n",
        "%cd /content/yolov5/\n",
        "!python train.py --img 640 --batch 16 --epochs 50 --data ./pothole/data.yaml --cfg ./models/custom_yolov5s.yaml --weights '' --name pothole_result  --cache"
      ]
    },
    {
      "cell_type": "code",
      "execution_count": null,
      "metadata": {
        "colab": {
          "base_uri": "https://localhost:8080/",
          "height": 35
        },
        "id": "Lr95Oq37xnga",
        "outputId": "865d3859-3606-403f-cbbe-2b3191814415"
      },
      "outputs": [
        {
          "data": {
            "application/vnd.google.colaboratory.intrinsic+json": {
              "type": "string"
            },
            "text/plain": [
              "'/content/yolov5'"
            ]
          },
          "execution_count": 27,
          "metadata": {},
          "output_type": "execute_result"
        }
      ],
      "source": [
        "%pwd\n",
        "%cat /"
      ]
    },
    {
      "cell_type": "markdown",
      "metadata": {
        "id": "IdOT8eBh5UYu"
      },
      "source": [
        "2. tensorboard를 이용한 확인"
      ]
    },
    {
      "cell_type": "code",
      "execution_count": null,
      "metadata": {
        "id": "aIKzoZpn5ade"
      },
      "outputs": [],
      "source": [
        "%load_ext tensorboard\n",
        "%tensorboard --logdir runs"
      ]
    },
    {
      "cell_type": "markdown",
      "metadata": {
        "id": "ErRjf7X06HVT"
      },
      "source": [
        "3. 학습 과정중에 vaildation data를 이용하여 스스로 검증한 결과를 이미지로 출력한 내용을 확인할 수 있습니다."
      ]
    },
    {
      "cell_type": "code",
      "execution_count": null,
      "metadata": {
        "id": "xqdKsM8k6T3g"
      },
      "outputs": [],
      "source": [
        "# train을 실행할 때마다 폴더가 생기므로 !ls /content/yolov5/runs/train/pothole_results/를\n",
        "!ls /content/yolov5/runs/train/pothole_results2/"
      ]
    }
  ],
  "metadata": {
    "colab": {
      "collapsed_sections": [
        "X8hTHGAoci-U"
      ],
      "provenance": [],
      "authorship_tag": "ABX9TyOoEfbjnON0b45Vom4cigIO",
      "include_colab_link": true
    },
    "kernelspec": {
      "display_name": "Python 3",
      "name": "python3"
    },
    "language_info": {
      "name": "python"
    }
  },
  "nbformat": 4,
  "nbformat_minor": 0
}